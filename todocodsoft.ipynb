{
 "cells": [
  {
   "cell_type": "code",
   "execution_count": 6,
   "id": "5e5d71ad",
   "metadata": {},
   "outputs": [],
   "source": [
    "import tkinter as tk\n",
    "from tkinter import messagebox\n",
    "\n",
    "tasks=[]\n",
    "\n",
    "def add_task():\n",
    "    task_text=entry.get()\n",
    "    if task_text:\n",
    "        tasks.append(task_text)\n",
    "        entry.delete(0, tk.END)\n",
    "        update_listbox()\n",
    "    else:\n",
    "        messagebox.showwarning(\"Warning\", \"Please enter a task.\")\n",
    "        \n",
    "def mark_completed():\n",
    "    selected_index=listbox.curselection()\n",
    "    if selected_index:\n",
    "        index=selected_index[0]\n",
    "        task=tasks[index]\n",
    "        tasks[index]=f\"[Completed]{task}\"\n",
    "        update_listbox()\n",
    "    else:\n",
    "        messagebox.showwarning(\"Warning\", \"Please select a task.\")\n",
    "        \n",
    "def delete_task():\n",
    "    selected_index=listbox.curselection()\n",
    "    if selected_index:\n",
    "        index=selected_index[0]\n",
    "        del tasks[index]\n",
    "        update_listbox()\n",
    "    else:\n",
    "        messagebox.showwarning(\"Warning\", \"Please select a task to delete.\")\n",
    "        \n",
    "def update_listbox():\n",
    "    listbox.delete(0,tk.END)\n",
    "    for task in tasks:\n",
    "        listbox.insert(tk.END,task)\n",
    "        \n",
    "root=tk.Tk()\n",
    "root.title(\"To-Do List\")\n",
    "\n",
    "entry= tk.Entry(root, width=60, font=('Helvetica', 12))\n",
    "entry.grid(row=0,column=0,padx=10,pady=10)\n",
    "\n",
    "add_button= tk.Button(root, text=\"Add Task\", background=\"bisque\", width=10, command=add_task, font=('Helvetica', 12))\n",
    "add_button.grid(row=0,column=1,padx=10,pady=10)\n",
    "\n",
    "listbox= tk.Listbox(root, selectmode= tk.SINGLE, width=70, height=20, font=('Helvetica', 12))\n",
    "listbox.grid(row=1,column=0,columnspan=2,padx=5,pady=10)\n",
    "\n",
    "complete_button=tk.Button(root, text=\"Mark as Completed\", background=\"light blue\", command=mark_completed, font=('Helvetica', 12))\n",
    "complete_button.grid(row=2,column=0,padx=10,pady=10)\n",
    "\n",
    "\n",
    "delete_button= tk.Button(root, text=\"Delete Task\", background=\"pink\", width=10, command=delete_task, font=('Helvetica', 12))\n",
    "delete_button.grid(row=2,column=1,padx=10,pady=10)\n",
    "\n",
    "root.mainloop()\n",
    "\n",
    "\n"
   ]
  },
  {
   "cell_type": "code",
   "execution_count": null,
   "id": "a6e69d61",
   "metadata": {},
   "outputs": [],
   "source": []
  },
  {
   "cell_type": "code",
   "execution_count": null,
   "id": "19615d7c",
   "metadata": {},
   "outputs": [],
   "source": []
  },
  {
   "cell_type": "code",
   "execution_count": null,
   "id": "406a484e",
   "metadata": {},
   "outputs": [],
   "source": []
  }
 ],
 "metadata": {
  "kernelspec": {
   "display_name": "Python 3 (ipykernel)",
   "language": "python",
   "name": "python3"
  },
  "language_info": {
   "codemirror_mode": {
    "name": "ipython",
    "version": 3
   },
   "file_extension": ".py",
   "mimetype": "text/x-python",
   "name": "python",
   "nbconvert_exporter": "python",
   "pygments_lexer": "ipython3",
   "version": "3.9.13"
  }
 },
 "nbformat": 4,
 "nbformat_minor": 5
}
