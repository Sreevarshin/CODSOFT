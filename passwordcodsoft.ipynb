{
 "cells": [
  {
   "cell_type": "code",
   "execution_count": 2,
   "id": "5c733e0b",
   "metadata": {},
   "outputs": [
    {
     "name": "stdout",
     "output_type": "stream",
     "text": [
      "Welcome to the Password Generator!\n",
      "Enter the desired length of the password: 8\n",
      "Include uppercase letters? (y/n): n\n",
      "Include lowercase letters? (y/n): y\n",
      "Include digits? (y/n): y\n",
      "Include special characters? (y/n): n\n",
      "Generated Password:  sztq2hc3\n"
     ]
    }
   ],
   "source": [
    "import random\n",
    "import string\n",
    "\n",
    "def generate_password(length, include_uppercase=True, include_lowercase=True, include_digits=True, include_special_chars=True):\n",
    "    characters=''\n",
    "    \n",
    "    if include_uppercase:\n",
    "        characters += string.ascii_uppercase\n",
    "    if include_lowercase:\n",
    "        characters += string.ascii_lowercase\n",
    "    if include_digits:\n",
    "        characters += string.digits\n",
    "    if include_special_chars:\n",
    "        characters +=string.punctuation\n",
    "        \n",
    "    if not characters:\n",
    "        print(\"Error: Please include atleast one type of character.\")\n",
    "        return none\n",
    "\n",
    "    password= ''.join(random.choice(characters)for _ in range(length))\n",
    "    return password\n",
    "\n",
    "def main():\n",
    "    print(\"Welcome to the Password Generator!\")\n",
    "    try:\n",
    "        length = int(input(\"Enter the desired length of the password: \"))\n",
    "    except ValueError:\n",
    "        print(\"Error: Please enter a valid number for the password length. \")\n",
    "        return\n",
    "    \n",
    "    include_uppercase= input(\"Include uppercase letters? (y/n): \").lower()== 'y'\n",
    "    include_lowercase= input(\"Include lowercase letters? (y/n): \").lower()== 'y'\n",
    "    include_digits= input(\"Include digits? (y/n): \").lower()== 'y'\n",
    "    include_special_chars= input(\"Include special characters? (y/n): \").lower()== 'y'\n",
    "    \n",
    "    password = generate_password(length, include_uppercase, include_lowercase, include_digits, include_special_chars)\n",
    "    \n",
    "    if password:\n",
    "        print(\"Generated Password: \",password)\n",
    "        \n",
    "if __name__ == \"__main__\":\n",
    "    main()\n",
    "    \n",
    "    "
   ]
  },
  {
   "cell_type": "code",
   "execution_count": null,
   "id": "46ba0101",
   "metadata": {},
   "outputs": [],
   "source": []
  },
  {
   "cell_type": "code",
   "execution_count": null,
   "id": "557eb9b8",
   "metadata": {},
   "outputs": [],
   "source": []
  }
 ],
 "metadata": {
  "kernelspec": {
   "display_name": "Python 3 (ipykernel)",
   "language": "python",
   "name": "python3"
  },
  "language_info": {
   "codemirror_mode": {
    "name": "ipython",
    "version": 3
   },
   "file_extension": ".py",
   "mimetype": "text/x-python",
   "name": "python",
   "nbconvert_exporter": "python",
   "pygments_lexer": "ipython3",
   "version": "3.9.13"
  }
 },
 "nbformat": 4,
 "nbformat_minor": 5
}
